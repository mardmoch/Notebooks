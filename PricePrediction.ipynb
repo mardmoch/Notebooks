{
 "cells": [
  {
   "cell_type": "code",
   "execution_count": 32,
   "metadata": {},
   "outputs": [],
   "source": [
    "import pandas as pd\n",
    "from pandas.plotting import register_matplotlib_converters\n",
    "register_matplotlib_converters()\n",
    "\n",
    "import numpy as np\n",
    "import matplotlib.pyplot as plt\n",
    "\n",
    "from sklearn.preprocessing import RobustScaler,StandardScaler\n",
    "from sklearn.ensemble import RandomForestRegressor\n",
    "from sklearn.decomposition import PCA\n",
    "from sklearn.metrics import mean_squared_error,mean_absolute_error\n",
    "from sklearn.model_selection import RandomizedSearchCV,TimeSeriesSplit"
   ]
  },
  {
   "cell_type": "markdown",
   "metadata": {},
   "source": [
    "# Data Loading and Preprocessing"
   ]
  },
  {
   "cell_type": "markdown",
   "metadata": {},
   "source": [
    "### Loading"
   ]
  },
  {
   "cell_type": "code",
   "execution_count": 33,
   "metadata": {},
   "outputs": [],
   "source": [
    "def draw_plot(data,ax,xlabel,title):\n",
    "    ax.set_title(title)\n",
    "    ax.set_xlabel(xlabel)\n",
    "    ax.plot(data)\n",
    "    return None\n",
    "\n",
    "def draw_hist(data,ax,xlabel,title):\n",
    "    ax.set_title(title)\n",
    "    ax.set_xlabel(xlabel)\n",
    "    ax.hist(data)\n",
    "    return None"
   ]
  },
  {
   "cell_type": "code",
   "execution_count": 34,
   "metadata": {},
   "outputs": [
    {
     "name": "stdout",
     "output_type": "stream",
     "text": [
      "<class 'pandas.core.frame.DataFrame'>\n",
      "RangeIndex: 541909 entries, 0 to 541908\n",
      "Data columns (total 8 columns):\n",
      "InvoiceNo      541909 non-null int64\n",
      "StockCode      541909 non-null object\n",
      "Description    540455 non-null object\n",
      "Quantity       541909 non-null int64\n",
      "InvoiceDate    541909 non-null object\n",
      "UnitPrice      541909 non-null float64\n",
      "CustomerID     406829 non-null float64\n",
      "Country        541909 non-null object\n",
      "dtypes: float64(2), int64(2), object(4)\n",
      "memory usage: 167.4 MB\n",
      "None\n"
     ]
    },
    {
     "data": {
      "text/html": [
       "<div>\n",
       "<style scoped>\n",
       "    .dataframe tbody tr th:only-of-type {\n",
       "        vertical-align: middle;\n",
       "    }\n",
       "\n",
       "    .dataframe tbody tr th {\n",
       "        vertical-align: top;\n",
       "    }\n",
       "\n",
       "    .dataframe thead th {\n",
       "        text-align: right;\n",
       "    }\n",
       "</style>\n",
       "<table border=\"1\" class=\"dataframe\">\n",
       "  <thead>\n",
       "    <tr style=\"text-align: right;\">\n",
       "      <th></th>\n",
       "      <th>InvoiceNo</th>\n",
       "      <th>StockCode</th>\n",
       "      <th>Description</th>\n",
       "      <th>Quantity</th>\n",
       "      <th>InvoiceDate</th>\n",
       "      <th>UnitPrice</th>\n",
       "      <th>CustomerID</th>\n",
       "      <th>Country</th>\n",
       "    </tr>\n",
       "  </thead>\n",
       "  <tbody>\n",
       "    <tr>\n",
       "      <td>0</td>\n",
       "      <td>1</td>\n",
       "      <td>85123A</td>\n",
       "      <td>WHITE HANGING HEART T-LIGHT HOLDER</td>\n",
       "      <td>6</td>\n",
       "      <td>2010-12-01 08:26:00</td>\n",
       "      <td>2.55</td>\n",
       "      <td>5504.0</td>\n",
       "      <td>United Kingdom</td>\n",
       "    </tr>\n",
       "    <tr>\n",
       "      <td>1</td>\n",
       "      <td>1</td>\n",
       "      <td>71053</td>\n",
       "      <td>WHITE METAL LANTERN</td>\n",
       "      <td>6</td>\n",
       "      <td>2010-12-01 08:26:00</td>\n",
       "      <td>3.39</td>\n",
       "      <td>5504.0</td>\n",
       "      <td>United Kingdom</td>\n",
       "    </tr>\n",
       "    <tr>\n",
       "      <td>2</td>\n",
       "      <td>1</td>\n",
       "      <td>84406B</td>\n",
       "      <td>CREAM CUPID HEARTS COAT HANGER</td>\n",
       "      <td>8</td>\n",
       "      <td>2010-12-01 08:26:00</td>\n",
       "      <td>2.75</td>\n",
       "      <td>5504.0</td>\n",
       "      <td>United Kingdom</td>\n",
       "    </tr>\n",
       "    <tr>\n",
       "      <td>3</td>\n",
       "      <td>1</td>\n",
       "      <td>84029G</td>\n",
       "      <td>KNITTED UNION FLAG HOT WATER BOTTLE</td>\n",
       "      <td>6</td>\n",
       "      <td>2010-12-01 08:26:00</td>\n",
       "      <td>3.39</td>\n",
       "      <td>5504.0</td>\n",
       "      <td>United Kingdom</td>\n",
       "    </tr>\n",
       "    <tr>\n",
       "      <td>4</td>\n",
       "      <td>1</td>\n",
       "      <td>84029E</td>\n",
       "      <td>RED WOOLLY HOTTIE WHITE HEART.</td>\n",
       "      <td>6</td>\n",
       "      <td>2010-12-01 08:26:00</td>\n",
       "      <td>3.39</td>\n",
       "      <td>5504.0</td>\n",
       "      <td>United Kingdom</td>\n",
       "    </tr>\n",
       "  </tbody>\n",
       "</table>\n",
       "</div>"
      ],
      "text/plain": [
       "   InvoiceNo StockCode                          Description  Quantity  \\\n",
       "0          1    85123A   WHITE HANGING HEART T-LIGHT HOLDER         6   \n",
       "1          1     71053                  WHITE METAL LANTERN         6   \n",
       "2          1    84406B       CREAM CUPID HEARTS COAT HANGER         8   \n",
       "3          1    84029G  KNITTED UNION FLAG HOT WATER BOTTLE         6   \n",
       "4          1    84029E       RED WOOLLY HOTTIE WHITE HEART.         6   \n",
       "\n",
       "           InvoiceDate  UnitPrice  CustomerID         Country  \n",
       "0  2010-12-01 08:26:00       2.55      5504.0  United Kingdom  \n",
       "1  2010-12-01 08:26:00       3.39      5504.0  United Kingdom  \n",
       "2  2010-12-01 08:26:00       2.75      5504.0  United Kingdom  \n",
       "3  2010-12-01 08:26:00       3.39      5504.0  United Kingdom  \n",
       "4  2010-12-01 08:26:00       3.39      5504.0  United Kingdom  "
      ]
     },
     "execution_count": 34,
     "metadata": {},
     "output_type": "execute_result"
    }
   ],
   "source": [
    "df = pd.read_csv(\"./retail_data.csv\",sep=',')\n",
    "print(df.info(memory_usage=\"deep\"))\n",
    "df.head()"
   ]
  },
  {
   "cell_type": "markdown",
   "metadata": {},
   "source": [
    "__First impression:__\n",
    "<br>\n",
    "1) Data are messy and there are some missing values in \"Description\" and \"CustumerID\".\n",
    "<br>\n",
    "2) There is a chance to reduce memory usage by changing features types."
   ]
  },
  {
   "cell_type": "markdown",
   "metadata": {},
   "source": [
    "### Cleaning and Visualisation"
   ]
  },
  {
   "cell_type": "code",
   "execution_count": 35,
   "metadata": {},
   "outputs": [
    {
     "name": "stdout",
     "output_type": "stream",
     "text": [
      "<class 'pandas.core.frame.DataFrame'>\n",
      "RangeIndex: 541909 entries, 0 to 541908\n",
      "Data columns (total 8 columns):\n",
      "InvoiceNo      541909 non-null int32\n",
      "StockCode      541909 non-null category\n",
      "Description    540455 non-null object\n",
      "Quantity       541909 non-null int32\n",
      "InvoiceDate    541909 non-null datetime64[ns]\n",
      "UnitPrice      541909 non-null float64\n",
      "CustomerID     406829 non-null float64\n",
      "Country        541909 non-null category\n",
      "dtypes: category(2), datetime64[ns](1), float64(2), int32(2), object(1)\n",
      "memory usage: 61.6 MB\n"
     ]
    }
   ],
   "source": [
    "df[\"InvoiceDate\"]= pd.to_datetime(df[\"InvoiceDate\"]) #object to DataTime64 \n",
    "df[[\"StockCode\",\"Country\"]]=df[[\"StockCode\",\"Country\"]].astype(\"category\")\n",
    "df[[\"InvoiceNo\",\"Quantity\"]]=df[[\"InvoiceNo\",\"Quantity\"]].astype(\"int\")\n",
    "df.info(memory_usage=\"deep\")"
   ]
  },
  {
   "cell_type": "markdown",
   "metadata": {},
   "source": [
    "###### Changes:\n",
    "1)\"InvoiceDate\" was changed from object to datetime64, so values can be used in a very efficient way.\n",
    "<br>\n",
    "2)\"InvoiceNo\" and \"Quantity\" was changed to integer.\n",
    "<br>\n",
    "For now, it is impossible to change the type of columns with NaN's.\n",
    "<br>\n",
    "__Overall memory usage reduced by 63%__"
   ]
  },
  {
   "cell_type": "code",
   "execution_count": 36,
   "metadata": {},
   "outputs": [
    {
     "data": {
      "text/html": [
       "<div>\n",
       "<style scoped>\n",
       "    .dataframe tbody tr th:only-of-type {\n",
       "        vertical-align: middle;\n",
       "    }\n",
       "\n",
       "    .dataframe tbody tr th {\n",
       "        vertical-align: top;\n",
       "    }\n",
       "\n",
       "    .dataframe thead th {\n",
       "        text-align: right;\n",
       "    }\n",
       "</style>\n",
       "<table border=\"1\" class=\"dataframe\">\n",
       "  <thead>\n",
       "    <tr style=\"text-align: right;\">\n",
       "      <th></th>\n",
       "      <th>InvoiceNo</th>\n",
       "      <th>StockCode</th>\n",
       "      <th>Description</th>\n",
       "      <th>Quantity</th>\n",
       "      <th>InvoiceDate</th>\n",
       "      <th>UnitPrice</th>\n",
       "      <th>CustomerID</th>\n",
       "      <th>Country</th>\n",
       "    </tr>\n",
       "  </thead>\n",
       "  <tbody>\n",
       "    <tr>\n",
       "      <td>count</td>\n",
       "      <td>541909.000000</td>\n",
       "      <td>541909</td>\n",
       "      <td>540455</td>\n",
       "      <td>541909.000000</td>\n",
       "      <td>541909</td>\n",
       "      <td>541909.000000</td>\n",
       "      <td>406829.000000</td>\n",
       "      <td>541909</td>\n",
       "    </tr>\n",
       "    <tr>\n",
       "      <td>unique</td>\n",
       "      <td>NaN</td>\n",
       "      <td>4070</td>\n",
       "      <td>4223</td>\n",
       "      <td>NaN</td>\n",
       "      <td>23260</td>\n",
       "      <td>NaN</td>\n",
       "      <td>NaN</td>\n",
       "      <td>38</td>\n",
       "    </tr>\n",
       "    <tr>\n",
       "      <td>top</td>\n",
       "      <td>NaN</td>\n",
       "      <td>85123A</td>\n",
       "      <td>WHITE HANGING HEART T-LIGHT HOLDER</td>\n",
       "      <td>NaN</td>\n",
       "      <td>2011-10-31 14:41:00</td>\n",
       "      <td>NaN</td>\n",
       "      <td>NaN</td>\n",
       "      <td>United Kingdom</td>\n",
       "    </tr>\n",
       "    <tr>\n",
       "      <td>freq</td>\n",
       "      <td>NaN</td>\n",
       "      <td>2313</td>\n",
       "      <td>2369</td>\n",
       "      <td>NaN</td>\n",
       "      <td>1114</td>\n",
       "      <td>NaN</td>\n",
       "      <td>NaN</td>\n",
       "      <td>495478</td>\n",
       "    </tr>\n",
       "    <tr>\n",
       "      <td>first</td>\n",
       "      <td>NaN</td>\n",
       "      <td>NaN</td>\n",
       "      <td>NaN</td>\n",
       "      <td>NaN</td>\n",
       "      <td>2010-12-01 08:26:00</td>\n",
       "      <td>NaN</td>\n",
       "      <td>NaN</td>\n",
       "      <td>NaN</td>\n",
       "    </tr>\n",
       "    <tr>\n",
       "      <td>last</td>\n",
       "      <td>NaN</td>\n",
       "      <td>NaN</td>\n",
       "      <td>NaN</td>\n",
       "      <td>NaN</td>\n",
       "      <td>2011-12-09 12:50:00</td>\n",
       "      <td>NaN</td>\n",
       "      <td>NaN</td>\n",
       "      <td>NaN</td>\n",
       "    </tr>\n",
       "    <tr>\n",
       "      <td>mean</td>\n",
       "      <td>23582.967325</td>\n",
       "      <td>NaN</td>\n",
       "      <td>NaN</td>\n",
       "      <td>9.552250</td>\n",
       "      <td>NaN</td>\n",
       "      <td>4.611114</td>\n",
       "      <td>2941.690570</td>\n",
       "      <td>NaN</td>\n",
       "    </tr>\n",
       "    <tr>\n",
       "      <td>std</td>\n",
       "      <td>13421.287454</td>\n",
       "      <td>NaN</td>\n",
       "      <td>NaN</td>\n",
       "      <td>218.081158</td>\n",
       "      <td>NaN</td>\n",
       "      <td>96.759853</td>\n",
       "      <td>1713.600303</td>\n",
       "      <td>NaN</td>\n",
       "    </tr>\n",
       "    <tr>\n",
       "      <td>min</td>\n",
       "      <td>1.000000</td>\n",
       "      <td>NaN</td>\n",
       "      <td>NaN</td>\n",
       "      <td>-80995.000000</td>\n",
       "      <td>NaN</td>\n",
       "      <td>-11062.060000</td>\n",
       "      <td>0.000000</td>\n",
       "      <td>NaN</td>\n",
       "    </tr>\n",
       "    <tr>\n",
       "      <td>25%</td>\n",
       "      <td>11532.000000</td>\n",
       "      <td>NaN</td>\n",
       "      <td>NaN</td>\n",
       "      <td>1.000000</td>\n",
       "      <td>NaN</td>\n",
       "      <td>1.250000</td>\n",
       "      <td>1607.000000</td>\n",
       "      <td>NaN</td>\n",
       "    </tr>\n",
       "    <tr>\n",
       "      <td>50%</td>\n",
       "      <td>24237.000000</td>\n",
       "      <td>NaN</td>\n",
       "      <td>NaN</td>\n",
       "      <td>3.000000</td>\n",
       "      <td>NaN</td>\n",
       "      <td>2.080000</td>\n",
       "      <td>2806.000000</td>\n",
       "      <td>NaN</td>\n",
       "    </tr>\n",
       "    <tr>\n",
       "      <td>75%</td>\n",
       "      <td>35415.000000</td>\n",
       "      <td>NaN</td>\n",
       "      <td>NaN</td>\n",
       "      <td>10.000000</td>\n",
       "      <td>NaN</td>\n",
       "      <td>4.130000</td>\n",
       "      <td>4445.000000</td>\n",
       "      <td>NaN</td>\n",
       "    </tr>\n",
       "    <tr>\n",
       "      <td>max</td>\n",
       "      <td>45223.000000</td>\n",
       "      <td>NaN</td>\n",
       "      <td>NaN</td>\n",
       "      <td>80995.000000</td>\n",
       "      <td>NaN</td>\n",
       "      <td>38970.000000</td>\n",
       "      <td>5941.000000</td>\n",
       "      <td>NaN</td>\n",
       "    </tr>\n",
       "  </tbody>\n",
       "</table>\n",
       "</div>"
      ],
      "text/plain": [
       "            InvoiceNo StockCode                         Description  \\\n",
       "count   541909.000000    541909                              540455   \n",
       "unique            NaN      4070                                4223   \n",
       "top               NaN    85123A  WHITE HANGING HEART T-LIGHT HOLDER   \n",
       "freq              NaN      2313                                2369   \n",
       "first             NaN       NaN                                 NaN   \n",
       "last              NaN       NaN                                 NaN   \n",
       "mean     23582.967325       NaN                                 NaN   \n",
       "std      13421.287454       NaN                                 NaN   \n",
       "min          1.000000       NaN                                 NaN   \n",
       "25%      11532.000000       NaN                                 NaN   \n",
       "50%      24237.000000       NaN                                 NaN   \n",
       "75%      35415.000000       NaN                                 NaN   \n",
       "max      45223.000000       NaN                                 NaN   \n",
       "\n",
       "             Quantity          InvoiceDate      UnitPrice     CustomerID  \\\n",
       "count   541909.000000               541909  541909.000000  406829.000000   \n",
       "unique            NaN                23260            NaN            NaN   \n",
       "top               NaN  2011-10-31 14:41:00            NaN            NaN   \n",
       "freq              NaN                 1114            NaN            NaN   \n",
       "first             NaN  2010-12-01 08:26:00            NaN            NaN   \n",
       "last              NaN  2011-12-09 12:50:00            NaN            NaN   \n",
       "mean         9.552250                  NaN       4.611114    2941.690570   \n",
       "std        218.081158                  NaN      96.759853    1713.600303   \n",
       "min     -80995.000000                  NaN  -11062.060000       0.000000   \n",
       "25%          1.000000                  NaN       1.250000    1607.000000   \n",
       "50%          3.000000                  NaN       2.080000    2806.000000   \n",
       "75%         10.000000                  NaN       4.130000    4445.000000   \n",
       "max      80995.000000                  NaN   38970.000000    5941.000000   \n",
       "\n",
       "               Country  \n",
       "count           541909  \n",
       "unique              38  \n",
       "top     United Kingdom  \n",
       "freq            495478  \n",
       "first              NaN  \n",
       "last               NaN  \n",
       "mean               NaN  \n",
       "std                NaN  \n",
       "min                NaN  \n",
       "25%                NaN  \n",
       "50%                NaN  \n",
       "75%                NaN  \n",
       "max                NaN  "
      ]
     },
     "execution_count": 36,
     "metadata": {},
     "output_type": "execute_result"
    }
   ],
   "source": [
    "df.describe(include=\"all\") #Statistical parameters of the each feature - all columns"
   ]
  },
  {
   "cell_type": "markdown",
   "metadata": {},
   "source": [
    "##### Observations\n",
    "We can observe some alarming signals. For example negative \"Quantity\" and \"UnitPrice\". Moreover, there are probably some outliers. We need to handle it. Max and min in \"Quantity\" and \"UnitPrice\" are far beyond __3*std__. Data starts from 2010-12-01 08:26:00 and ends at 2011-12-09 12:50:00. There are 4070 unique stock codes and their average frequency is 2313. More unique \"Descriptions\" than \"StockCodes\" suggest that for one Stock code can exist several descriptions. At 2011-10-31 14:41:00 is someone order with the most items.\n",
    "##### Our goal is to bild model that will predict when given  item will be ordered again. \n",
    "<br>\n",
    "To be more specific, by \"order\" I mean rows witch represent an only act of buying. Therefore the price and quantity of \"order\" have to be a positive number.\n",
    "If there are some other transactions like fees, credit debts, etc. I will remove them. Rows with zero or negative \"Quantity\" or \"UnitPrice\" will be removed also. They probably represent returns and gifts."
   ]
  },
  {
   "cell_type": "code",
   "execution_count": 37,
   "metadata": {},
   "outputs": [
    {
     "data": {
      "image/png": "[encoded data removed]",
      "text/plain": [
       "<Figure size 1296x720 with 4 Axes>"
      ]
     },
     "metadata": {
      "needs_background": "light"
     },
     "output_type": "display_data"
    }
   ],
   "source": [
    "#Let's see how raw data looks like.\n",
    "fig, ((bx1, bx2), (bx3, bx4))= plt.subplots(2, 2,figsize=(18,10))\n",
    "\n",
    "draw_plot(df.Quantity,bx1,\"time\",'Quantity(t)')\n",
    "draw_plot(df.UnitPrice,bx2,\"time\",'UnitPrice(t)')\n",
    "draw_plot(df.InvoiceDate,bx3,\"time\",'InvoiceDate(t)')\n",
    "draw_plot(df.InvoiceNo,bx4,\"invoiceNo\",'Invoice Number')\n",
    "\n",
    "plt.show()"
   ]
  },
  {
   "cell_type": "markdown",
   "metadata": {},
   "source": [
    "##### Observations\n",
    "The highest outliers in Quantity are horizontally symmetrical. It can be a cancellation of the order. There is one easily seen outlier in price with a negative price. We don't have information about currency. I assume that all transactions were made in the same money. InvoiceDate is quite linear but it is more falt in the end. It suggests that the shop had more orders at the end of a year. Linear invoiceNo it's perfectly normal."
   ]
  },
  {
   "cell_type": "code",
   "execution_count": 38,
   "metadata": {},
   "outputs": [
    {
     "data": {
      "text/html": [
       "<div>\n",
       "<style scoped>\n",
       "    .dataframe tbody tr th:only-of-type {\n",
       "        vertical-align: middle;\n",
       "    }\n",
       "\n",
       "    .dataframe tbody tr th {\n",
       "        vertical-align: top;\n",
       "    }\n",
       "\n",
       "    .dataframe thead th {\n",
       "        text-align: right;\n",
       "    }\n",
       "</style>\n",
       "<table border=\"1\" class=\"dataframe\">\n",
       "  <thead>\n",
       "    <tr style=\"text-align: right;\">\n",
       "      <th></th>\n",
       "      <th>InvoiceNo</th>\n",
       "      <th>StockCode</th>\n",
       "      <th>Description</th>\n",
       "      <th>Quantity</th>\n",
       "      <th>InvoiceDate</th>\n",
       "      <th>UnitPrice</th>\n",
       "      <th>CustomerID</th>\n",
       "      <th>Country</th>\n",
       "    </tr>\n",
       "  </thead>\n",
       "  <tbody>\n",
       "    <tr>\n",
       "      <td>622</td>\n",
       "      <td>50</td>\n",
       "      <td>22139</td>\n",
       "      <td>NaN</td>\n",
       "      <td>56</td>\n",
       "      <td>2010-12-01 11:52:00</td>\n",
       "      <td>0.0</td>\n",
       "      <td>NaN</td>\n",
       "      <td>United Kingdom</td>\n",
       "    </tr>\n",
       "    <tr>\n",
       "      <td>1970</td>\n",
       "      <td>181</td>\n",
       "      <td>21134</td>\n",
       "      <td>NaN</td>\n",
       "      <td>1</td>\n",
       "      <td>2010-12-01 14:32:00</td>\n",
       "      <td>0.0</td>\n",
       "      <td>NaN</td>\n",
       "      <td>United Kingdom</td>\n",
       "    </tr>\n",
       "    <tr>\n",
       "      <td>1971</td>\n",
       "      <td>182</td>\n",
       "      <td>22145</td>\n",
       "      <td>NaN</td>\n",
       "      <td>1</td>\n",
       "      <td>2010-12-01 14:33:00</td>\n",
       "      <td>0.0</td>\n",
       "      <td>NaN</td>\n",
       "      <td>United Kingdom</td>\n",
       "    </tr>\n",
       "  </tbody>\n",
       "</table>\n",
       "</div>"
      ],
      "text/plain": [
       "      InvoiceNo StockCode Description  Quantity         InvoiceDate  \\\n",
       "622          50     22139         NaN        56 2010-12-01 11:52:00   \n",
       "1970        181     21134         NaN         1 2010-12-01 14:32:00   \n",
       "1971        182     22145         NaN         1 2010-12-01 14:33:00   \n",
       "\n",
       "      UnitPrice  CustomerID         Country  \n",
       "622         0.0         NaN  United Kingdom  \n",
       "1970        0.0         NaN  United Kingdom  \n",
       "1971        0.0         NaN  United Kingdom  "
      ]
     },
     "execution_count": 38,
     "metadata": {},
     "output_type": "execute_result"
    }
   ],
   "source": [
    "fltr=df[\"Description\"].isna()\n",
    "df[fltr].head(3)"
   ]
  },
  {
   "cell_type": "markdown",
   "metadata": {},
   "source": [
    "We see that NaNs in \"Description\" and \"CustomerID\" are connected with zero at \"UnitPrice\". I will check, how many rows like that do we have. Also, we can see that there are some characters in StocCode."
   ]
  },
  {
   "cell_type": "code",
   "execution_count": 39,
   "metadata": {},
   "outputs": [
    {
     "name": "stdout",
     "output_type": "stream",
     "text": [
      "Number of  0 prices and below: 2517\n",
      "Percentage of 0 prices and below: 0.46446912673530055%\n"
     ]
    }
   ],
   "source": [
    "fltr=df[\"UnitPrice\"]<=0 # second filter\n",
    "print(\"Number of  0 prices and below: \"+str(len(df[fltr])))\n",
    "print(\"Percentage of 0 prices and below: \"+str(len(df[fltr])*100/len(df))+\"%\")"
   ]
  },
  {
   "cell_type": "code",
   "execution_count": 40,
   "metadata": {},
   "outputs": [
    {
     "name": "stdout",
     "output_type": "stream",
     "text": [
      "<class 'pandas.core.frame.DataFrame'>\n",
      "Int64Index: 539392 entries, 0 to 541908\n",
      "Data columns (total 8 columns):\n",
      "InvoiceNo      539392 non-null int32\n",
      "StockCode      539392 non-null category\n",
      "Description    539392 non-null object\n",
      "Quantity       539392 non-null int32\n",
      "InvoiceDate    539392 non-null datetime64[ns]\n",
      "UnitPrice      539392 non-null float64\n",
      "CustomerID     406789 non-null float64\n",
      "Country        539392 non-null category\n",
      "dtypes: category(2), datetime64[ns](1), float64(2), int32(2), object(1)\n",
      "memory usage: 65.6 MB\n"
     ]
    }
   ],
   "source": [
    "df.drop(df[fltr].index,inplace=True)\n",
    "df.info(memory_usage=\"deep\")"
   ]
  },
  {
   "cell_type": "markdown",
   "metadata": {},
   "source": [
    "Great! Problem with NaN's in \"Description\" is solved."
   ]
  },
  {
   "cell_type": "markdown",
   "metadata": {},
   "source": [
    "##### What is the time distribution of all transactions?"
   ]
  },
  {
   "cell_type": "code",
   "execution_count": 41,
   "metadata": {},
   "outputs": [
    {
     "data": {
      "image/png": "[encoded data removed]",
      "text/plain": [
       "<Figure size 1296x720 with 4 Axes>"
      ]
     },
     "metadata": {
      "needs_background": "light"
     },
     "output_type": "display_data"
    }
   ],
   "source": [
    "fig, ((ax1, ax2), (ax3, ax4))= plt.subplots(2, 2,figsize=(18,10))\n",
    "\n",
    "draw_hist(df[\"InvoiceDate\"].dt.hour,ax1,\"hours\",'Histogram InvoiceDate - HOURS')\n",
    "draw_hist(df[\"InvoiceDate\"].dt.day,ax2,\"day\",'Histogram InvoiceDate - DAYS')\n",
    "draw_hist(df[\"InvoiceDate\"].dt.month,ax3,\"month\",'Histogram InvoiceDate - MONTHS')\n",
    "draw_hist(df[\"InvoiceDate\"].dt.year,ax4,\"years\",'Histogram InvoiceDate - YEARS')\n",
    "\n",
    "plt.show()"
   ]
  },
  {
   "cell_type": "markdown",
   "metadata": {},
   "source": [
    "The peak of transactions occurred about 1 pm. Second, after 8 am.It looks like people buy more at the beginning of the month but peak occurs on the 30th. Moreover, the retailer sells the most in November. What, is in accord with intuition."
   ]
  },
  {
   "cell_type": "code",
   "execution_count": 42,
   "metadata": {},
   "outputs": [
    {
     "name": "stdout",
     "output_type": "stream",
     "text": [
      "Number of unsual entries: 2963\n"
     ]
    },
    {
     "data": {
      "text/html": [
       "<div>\n",
       "<style scoped>\n",
       "    .dataframe tbody tr th:only-of-type {\n",
       "        vertical-align: middle;\n",
       "    }\n",
       "\n",
       "    .dataframe tbody tr th {\n",
       "        vertical-align: top;\n",
       "    }\n",
       "\n",
       "    .dataframe thead th {\n",
       "        text-align: right;\n",
       "    }\n",
       "</style>\n",
       "<table border=\"1\" class=\"dataframe\">\n",
       "  <thead>\n",
       "    <tr style=\"text-align: right;\">\n",
       "      <th></th>\n",
       "      <th>InvoiceNo</th>\n",
       "      <th>StockCode</th>\n",
       "      <th>Description</th>\n",
       "      <th>Quantity</th>\n",
       "      <th>InvoiceDate</th>\n",
       "      <th>UnitPrice</th>\n",
       "      <th>CustomerID</th>\n",
       "      <th>Country</th>\n",
       "    </tr>\n",
       "  </thead>\n",
       "  <tbody>\n",
       "    <tr>\n",
       "      <td>45</td>\n",
       "      <td>6</td>\n",
       "      <td>POST</td>\n",
       "      <td>POSTAGE</td>\n",
       "      <td>3</td>\n",
       "      <td>2010-12-01 08:45:00</td>\n",
       "      <td>18.00</td>\n",
       "      <td>237.0</td>\n",
       "      <td>France</td>\n",
       "    </tr>\n",
       "    <tr>\n",
       "      <td>141</td>\n",
       "      <td>15</td>\n",
       "      <td>D</td>\n",
       "      <td>Discount</td>\n",
       "      <td>-1</td>\n",
       "      <td>2010-12-01 09:41:00</td>\n",
       "      <td>27.50</td>\n",
       "      <td>2181.0</td>\n",
       "      <td>United Kingdom</td>\n",
       "    </tr>\n",
       "    <tr>\n",
       "      <td>386</td>\n",
       "      <td>39</td>\n",
       "      <td>POST</td>\n",
       "      <td>POSTAGE</td>\n",
       "      <td>1</td>\n",
       "      <td>2010-12-01 11:27:00</td>\n",
       "      <td>15.00</td>\n",
       "      <td>445.0</td>\n",
       "      <td>Netherlands</td>\n",
       "    </tr>\n",
       "    <tr>\n",
       "      <td>1123</td>\n",
       "      <td>163</td>\n",
       "      <td>POST</td>\n",
       "      <td>POSTAGE</td>\n",
       "      <td>1</td>\n",
       "      <td>2010-12-01 13:04:00</td>\n",
       "      <td>18.00</td>\n",
       "      <td>316.0</td>\n",
       "      <td>Germany</td>\n",
       "    </tr>\n",
       "    <tr>\n",
       "      <td>1423</td>\n",
       "      <td>176</td>\n",
       "      <td>C2</td>\n",
       "      <td>CARRIAGE</td>\n",
       "      <td>1</td>\n",
       "      <td>2010-12-01 14:05:00</td>\n",
       "      <td>50.00</td>\n",
       "      <td>2565.0</td>\n",
       "      <td>EIRE</td>\n",
       "    </tr>\n",
       "    <tr>\n",
       "      <td>...</td>\n",
       "      <td>...</td>\n",
       "      <td>...</td>\n",
       "      <td>...</td>\n",
       "      <td>...</td>\n",
       "      <td>...</td>\n",
       "      <td>...</td>\n",
       "      <td>...</td>\n",
       "      <td>...</td>\n",
       "    </tr>\n",
       "    <tr>\n",
       "      <td>541540</td>\n",
       "      <td>45134</td>\n",
       "      <td>DOT</td>\n",
       "      <td>DOTCOM POSTAGE</td>\n",
       "      <td>1</td>\n",
       "      <td>2011-12-09 10:26:00</td>\n",
       "      <td>1714.17</td>\n",
       "      <td>NaN</td>\n",
       "      <td>United Kingdom</td>\n",
       "    </tr>\n",
       "    <tr>\n",
       "      <td>541541</td>\n",
       "      <td>45135</td>\n",
       "      <td>M</td>\n",
       "      <td>Manual</td>\n",
       "      <td>-1</td>\n",
       "      <td>2011-12-09 10:28:00</td>\n",
       "      <td>224.69</td>\n",
       "      <td>3152.0</td>\n",
       "      <td>United Kingdom</td>\n",
       "    </tr>\n",
       "    <tr>\n",
       "      <td>541730</td>\n",
       "      <td>45206</td>\n",
       "      <td>POST</td>\n",
       "      <td>POSTAGE</td>\n",
       "      <td>1</td>\n",
       "      <td>2011-12-09 11:59:00</td>\n",
       "      <td>18.00</td>\n",
       "      <td>316.0</td>\n",
       "      <td>Germany</td>\n",
       "    </tr>\n",
       "    <tr>\n",
       "      <td>541767</td>\n",
       "      <td>45210</td>\n",
       "      <td>POST</td>\n",
       "      <td>POSTAGE</td>\n",
       "      <td>2</td>\n",
       "      <td>2011-12-09 12:09:00</td>\n",
       "      <td>18.00</td>\n",
       "      <td>180.0</td>\n",
       "      <td>Germany</td>\n",
       "    </tr>\n",
       "    <tr>\n",
       "      <td>541768</td>\n",
       "      <td>45214</td>\n",
       "      <td>POST</td>\n",
       "      <td>POSTAGE</td>\n",
       "      <td>3</td>\n",
       "      <td>2011-12-09 12:16:00</td>\n",
       "      <td>18.00</td>\n",
       "      <td>367.0</td>\n",
       "      <td>Germany</td>\n",
       "    </tr>\n",
       "  </tbody>\n",
       "</table>\n",
       "<p>2963 rows × 8 columns</p>\n",
       "</div>"
      ],
      "text/plain": [
       "        InvoiceNo StockCode     Description  Quantity         InvoiceDate  \\\n",
       "45              6      POST         POSTAGE         3 2010-12-01 08:45:00   \n",
       "141            15         D        Discount        -1 2010-12-01 09:41:00   \n",
       "386            39      POST         POSTAGE         1 2010-12-01 11:27:00   \n",
       "1123          163      POST         POSTAGE         1 2010-12-01 13:04:00   \n",
       "1423          176        C2        CARRIAGE         1 2010-12-01 14:05:00   \n",
       "...           ...       ...             ...       ...                 ...   \n",
       "541540      45134       DOT  DOTCOM POSTAGE         1 2011-12-09 10:26:00   \n",
       "541541      45135         M          Manual        -1 2011-12-09 10:28:00   \n",
       "541730      45206      POST         POSTAGE         1 2011-12-09 11:59:00   \n",
       "541767      45210      POST         POSTAGE         2 2011-12-09 12:09:00   \n",
       "541768      45214      POST         POSTAGE         3 2011-12-09 12:16:00   \n",
       "\n",
       "        UnitPrice  CustomerID         Country  \n",
       "45          18.00       237.0          France  \n",
       "141         27.50      2181.0  United Kingdom  \n",
       "386         15.00       445.0     Netherlands  \n",
       "1123        18.00       316.0         Germany  \n",
       "1423        50.00      2565.0            EIRE  \n",
       "...           ...         ...             ...  \n",
       "541540    1714.17         NaN  United Kingdom  \n",
       "541541     224.69      3152.0  United Kingdom  \n",
       "541730      18.00       316.0         Germany  \n",
       "541767      18.00       180.0         Germany  \n",
       "541768      18.00       367.0         Germany  \n",
       "\n",
       "[2963 rows x 8 columns]"
      ]
     },
     "execution_count": 42,
     "metadata": {},
     "output_type": "execute_result"
    }
   ],
   "source": [
    "#Filtering unsual StockCode\n",
    "index_binary = df['StockCode'].str[0:5].str.isnumeric()\n",
    "print(\"Number of unsual entries: \"+str(len(df[~index_binary])))\n",
    "df[~index_binary]"
   ]
  },
  {
   "cell_type": "markdown",
   "metadata": {},
   "source": [
    "It looks like that rows with those descriptions in \"StockCode\" represent some unusual entries like fees, vouchers, gifts etc. \n",
    "We can safely remove those rows to make data cleaner."
   ]
  },
  {
   "cell_type": "code",
   "execution_count": 43,
   "metadata": {},
   "outputs": [
    {
     "name": "stdout",
     "output_type": "stream",
     "text": [
      "Shape of DataFrame after droping: (536429, 8)\n"
     ]
    }
   ],
   "source": [
    "index=df[~index_binary].index\n",
    "df.drop(index,inplace=True)\n",
    "print(\"Shape of DataFrame after droping: \"+str(df.shape))"
   ]
  },
  {
   "cell_type": "code",
   "execution_count": 44,
   "metadata": {},
   "outputs": [
    {
     "name": "stdout",
     "output_type": "stream",
     "text": [
      "Duplicate rows: 5257\n",
      "Shape of DataFrame after droping duplicates:(531172, 8)\n"
     ]
    }
   ],
   "source": [
    "#chacking for duplicate rows and removing them\n",
    "print('Duplicate rows: '+str(df.duplicated().sum()))\n",
    "df.drop_duplicates(inplace = True)\n",
    "print(\"Shape of DataFrame after droping duplicates:\"+str(df.shape))"
   ]
  },
  {
   "cell_type": "code",
   "execution_count": 45,
   "metadata": {},
   "outputs": [
    {
     "data": {
      "text/html": [
       "<div>\n",
       "<style scoped>\n",
       "    .dataframe tbody tr th:only-of-type {\n",
       "        vertical-align: middle;\n",
       "    }\n",
       "\n",
       "    .dataframe tbody tr th {\n",
       "        vertical-align: top;\n",
       "    }\n",
       "\n",
       "    .dataframe thead th {\n",
       "        text-align: right;\n",
       "    }\n",
       "</style>\n",
       "<table border=\"1\" class=\"dataframe\">\n",
       "  <thead>\n",
       "    <tr style=\"text-align: right;\">\n",
       "      <th></th>\n",
       "      <th>InvoiceNo</th>\n",
       "      <th>Quantity</th>\n",
       "      <th>UnitPrice</th>\n",
       "      <th>CustomerID</th>\n",
       "    </tr>\n",
       "  </thead>\n",
       "  <tbody>\n",
       "    <tr>\n",
       "      <td>count</td>\n",
       "      <td>531172.000000</td>\n",
       "      <td>531172.000000</td>\n",
       "      <td>531172.000000</td>\n",
       "      <td>399656.000000</td>\n",
       "    </tr>\n",
       "    <tr>\n",
       "      <td>mean</td>\n",
       "      <td>23581.734163</td>\n",
       "      <td>9.961487</td>\n",
       "      <td>3.292533</td>\n",
       "      <td>2942.781965</td>\n",
       "    </tr>\n",
       "    <tr>\n",
       "      <td>std</td>\n",
       "      <td>13414.915648</td>\n",
       "      <td>217.014514</td>\n",
       "      <td>4.512918</td>\n",
       "      <td>1710.791025</td>\n",
       "    </tr>\n",
       "    <tr>\n",
       "      <td>min</td>\n",
       "      <td>1.000000</td>\n",
       "      <td>-80995.000000</td>\n",
       "      <td>0.030000</td>\n",
       "      <td>0.000000</td>\n",
       "    </tr>\n",
       "    <tr>\n",
       "      <td>25%</td>\n",
       "      <td>11537.500000</td>\n",
       "      <td>1.000000</td>\n",
       "      <td>1.250000</td>\n",
       "      <td>1613.000000</td>\n",
       "    </tr>\n",
       "    <tr>\n",
       "      <td>50%</td>\n",
       "      <td>24241.000000</td>\n",
       "      <td>3.000000</td>\n",
       "      <td>2.080000</td>\n",
       "      <td>2806.000000</td>\n",
       "    </tr>\n",
       "    <tr>\n",
       "      <td>75%</td>\n",
       "      <td>35373.000000</td>\n",
       "      <td>10.000000</td>\n",
       "      <td>4.130000</td>\n",
       "      <td>4445.000000</td>\n",
       "    </tr>\n",
       "    <tr>\n",
       "      <td>max</td>\n",
       "      <td>45223.000000</td>\n",
       "      <td>80995.000000</td>\n",
       "      <td>649.500000</td>\n",
       "      <td>5941.000000</td>\n",
       "    </tr>\n",
       "  </tbody>\n",
       "</table>\n",
       "</div>"
      ],
      "text/plain": [
       "           InvoiceNo       Quantity      UnitPrice     CustomerID\n",
       "count  531172.000000  531172.000000  531172.000000  399656.000000\n",
       "mean    23581.734163       9.961487       3.292533    2942.781965\n",
       "std     13414.915648     217.014514       4.512918    1710.791025\n",
       "min         1.000000  -80995.000000       0.030000       0.000000\n",
       "25%     11537.500000       1.000000       1.250000    1613.000000\n",
       "50%     24241.000000       3.000000       2.080000    2806.000000\n",
       "75%     35373.000000      10.000000       4.130000    4445.000000\n",
       "max     45223.000000   80995.000000     649.500000    5941.000000"
      ]
     },
     "execution_count": 45,
     "metadata": {},
     "output_type": "execute_result"
    }
   ],
   "source": [
    "# chacking the statistic after droping\n",
    "df.describe()"
   ]
  },
  {
   "cell_type": "code",
   "execution_count": 46,
   "metadata": {},
   "outputs": [
    {
     "data": {
      "image/png": "[encoded data removed]",
      "text/plain": [
       "<Figure size 720x360 with 1 Axes>"
      ]
     },
     "metadata": {
      "needs_background": "light"
     },
     "output_type": "display_data"
    }
   ],
   "source": [
    "_=df[\"Quantity\"].plot(figsize=(10,5),title=\"Quantity- visualization of outlires\",\n",
    "                      legend=True,grid=True)"
   ]
  },
  {
   "cell_type": "code",
   "execution_count": 47,
   "metadata": {},
   "outputs": [],
   "source": [
    "#Droping Quantity<=0 and higher than 5000\n",
    "fltr=(df[\"Quantity\"]<=0) | (df[\"Quantity\"]>5000)\n",
    "index=df[fltr].index\n",
    "df.drop(index,inplace=True)"
   ]
  },
  {
   "cell_type": "code",
   "execution_count": 48,
   "metadata": {},
   "outputs": [
    {
     "name": "stdout",
     "output_type": "stream",
     "text": [
      "Number of Customers without ID: 131354\n",
      "Average freqency of Customer with ID 197.0\n"
     ]
    }
   ],
   "source": [
    "na_index=df[\"CustomerID\"].isna()\n",
    "print(\"Number of Customers without ID: \"+str(len(df[na_index])))\n",
    "av_man=df[~na_index][\"CustomerID\"].groupby(df[\"CustomerID\"]).transform(\"count\").median()\n",
    "print(\"Average freqency of Customer with ID \"+str(av_man))"
   ]
  },
  {
   "cell_type": "markdown",
   "metadata": {},
   "source": [
    "Since our task is to predict time to next order we don't need full information about the customer. Moreover, other features of transaction looks fine. Most \"no-name\" Customers bought just one product at a relatively low price.Dropping 131388 samples (25%) would be a huge waste and could have a negative impact on training performance. \n",
    "Therethrough, I will assign some IDs. In order to have balanced data, I need to set N IDs where N *average_customer~130k.\n",
    "<br>\n",
    "average_customer = 200 => N ~750"
   ]
  },
  {
   "cell_type": "code",
   "execution_count": 49,
   "metadata": {},
   "outputs": [
    {
     "name": "stdout",
     "output_type": "stream",
     "text": [
      "Number of new Customers: 656\n",
      "131354\n",
      "NaN = 0\n"
     ]
    }
   ],
   "source": [
    "def new_id(na_index,n=200):\n",
    "    ids=int(len(df[na_index])/n)\n",
    "    print(\"Number of new Customers: \"+str(ids))\n",
    "    IDs=[-1*(i%ids+1) for i in range(1,len(df[na_index])+1)]\n",
    "    print(len(IDs))\n",
    "    return IDs\n",
    "\n",
    "new_vec= new_id(na_index,200)\n",
    "index=df[na_index].index\n",
    "df.loc[index,\"CustomerID\"]=np.array(new_vec)\n",
    "\n",
    "print(\"NaN = \"+str(df[\"CustomerID\"].isna().sum()))"
   ]
  },
  {
   "cell_type": "code",
   "execution_count": 50,
   "metadata": {},
   "outputs": [
    {
     "data": {
      "text/html": [
       "<div>\n",
       "<style scoped>\n",
       "    .dataframe tbody tr th:only-of-type {\n",
       "        vertical-align: middle;\n",
       "    }\n",
       "\n",
       "    .dataframe tbody tr th {\n",
       "        vertical-align: top;\n",
       "    }\n",
       "\n",
       "    .dataframe thead th {\n",
       "        text-align: right;\n",
       "    }\n",
       "</style>\n",
       "<table border=\"1\" class=\"dataframe\">\n",
       "  <thead>\n",
       "    <tr style=\"text-align: right;\">\n",
       "      <th></th>\n",
       "      <th>InvoiceNo</th>\n",
       "      <th>Quantity</th>\n",
       "      <th>UnitPrice</th>\n",
       "      <th>CustomerID</th>\n",
       "    </tr>\n",
       "  </thead>\n",
       "  <tbody>\n",
       "    <tr>\n",
       "      <td>count</td>\n",
       "      <td>522502.000000</td>\n",
       "      <td>522502.000000</td>\n",
       "      <td>522502.000000</td>\n",
       "      <td>522502.000000</td>\n",
       "    </tr>\n",
       "    <tr>\n",
       "      <td>mean</td>\n",
       "      <td>23598.955390</td>\n",
       "      <td>10.346506</td>\n",
       "      <td>3.273900</td>\n",
       "      <td>2125.260814</td>\n",
       "    </tr>\n",
       "    <tr>\n",
       "      <td>std</td>\n",
       "      <td>13420.880261</td>\n",
       "      <td>37.855225</td>\n",
       "      <td>4.393156</td>\n",
       "      <td>2054.345105</td>\n",
       "    </tr>\n",
       "    <tr>\n",
       "      <td>min</td>\n",
       "      <td>1.000000</td>\n",
       "      <td>1.000000</td>\n",
       "      <td>0.040000</td>\n",
       "      <td>-656.000000</td>\n",
       "    </tr>\n",
       "    <tr>\n",
       "      <td>25%</td>\n",
       "      <td>11542.000000</td>\n",
       "      <td>1.000000</td>\n",
       "      <td>1.250000</td>\n",
       "      <td>-4.000000</td>\n",
       "    </tr>\n",
       "    <tr>\n",
       "      <td>50%</td>\n",
       "      <td>24325.000000</td>\n",
       "      <td>4.000000</td>\n",
       "      <td>2.080000</td>\n",
       "      <td>2021.000000</td>\n",
       "    </tr>\n",
       "    <tr>\n",
       "      <td>75%</td>\n",
       "      <td>35460.000000</td>\n",
       "      <td>12.000000</td>\n",
       "      <td>4.130000</td>\n",
       "      <td>3909.000000</td>\n",
       "    </tr>\n",
       "    <tr>\n",
       "      <td>max</td>\n",
       "      <td>45223.000000</td>\n",
       "      <td>4800.000000</td>\n",
       "      <td>649.500000</td>\n",
       "      <td>5941.000000</td>\n",
       "    </tr>\n",
       "  </tbody>\n",
       "</table>\n",
       "</div>"
      ],
      "text/plain": [
       "           InvoiceNo       Quantity      UnitPrice     CustomerID\n",
       "count  522502.000000  522502.000000  522502.000000  522502.000000\n",
       "mean    23598.955390      10.346506       3.273900    2125.260814\n",
       "std     13420.880261      37.855225       4.393156    2054.345105\n",
       "min         1.000000       1.000000       0.040000    -656.000000\n",
       "25%     11542.000000       1.000000       1.250000      -4.000000\n",
       "50%     24325.000000       4.000000       2.080000    2021.000000\n",
       "75%     35460.000000      12.000000       4.130000    3909.000000\n",
       "max     45223.000000    4800.000000     649.500000    5941.000000"
      ]
     },
     "execution_count": 50,
     "metadata": {},
     "output_type": "execute_result"
    }
   ],
   "source": [
    "df.describe()"
   ]
  },
  {
   "cell_type": "markdown",
   "metadata": {},
   "source": [
    "Great. Presented method works fine. After replacing all NaN's it is possible to change type of \"Description\" and\"CustomerID."
   ]
  },
  {
   "cell_type": "code",
   "execution_count": 51,
   "metadata": {},
   "outputs": [
    {
     "name": "stdout",
     "output_type": "stream",
     "text": [
      "<class 'pandas.core.frame.DataFrame'>\n",
      "Int64Index: 522502 entries, 0 to 541908\n",
      "Data columns (total 8 columns):\n",
      "InvoiceNo      522502 non-null int32\n",
      "StockCode      522502 non-null category\n",
      "Description    522502 non-null category\n",
      "Quantity       522502 non-null int32\n",
      "InvoiceDate    522502 non-null datetime64[ns]\n",
      "UnitPrice      522502 non-null float64\n",
      "CustomerID     522502 non-null int32\n",
      "Country        522502 non-null category\n",
      "dtypes: category(3), datetime64[ns](1), float64(1), int32(3)\n",
      "memory usage: 41.3 MB\n",
      "None\n"
     ]
    }
   ],
   "source": [
    "df[[\"Description\"]]=df[[\"Description\"]].astype(\"category\")\n",
    "df[[\"CustomerID\"]]=df[[\"CustomerID\"]].astype(\"int\")\n",
    "print(df.info(memory_usage=\"deep\"))"
   ]
  },
  {
   "cell_type": "code",
   "execution_count": 52,
   "metadata": {},
   "outputs": [
    {
     "data": {
      "text/plain": [
       "InvoiceNo      False\n",
       "StockCode      False\n",
       "Description    False\n",
       "Quantity       False\n",
       "InvoiceDate    False\n",
       "UnitPrice      False\n",
       "CustomerID     False\n",
       "Country        False\n",
       "dtype: bool"
      ]
     },
     "execution_count": 52,
     "metadata": {},
     "output_type": "execute_result"
    }
   ],
   "source": [
    "#Final chack if there is no NaN's\n",
    "df.isna().any()"
   ]
  },
  {
   "cell_type": "markdown",
   "metadata": {},
   "source": [
    "__Done. There are no missing values. Finally, we achieved a reduction of the memory usage about 90%.__"
   ]
  },
  {
   "cell_type": "code",
   "execution_count": 53,
   "metadata": {},
   "outputs": [
    {
     "name": "stdout",
     "output_type": "stream",
     "text": [
      "Customer's country - UK vs ALL: 0.9164290280228592\n"
     ]
    },
    {
     "data": {
      "image/png": "[encoded data removed]",
      "text/plain": [
       "<Figure size 1440x360 with 1 Axes>"
      ]
     },
     "metadata": {
      "needs_background": "light"
     },
     "output_type": "display_data"
    }
   ],
   "source": [
    "country=df.groupby(\"Country\")[\"Country\"].count()\n",
    "country_sorted=country.sort_values()\n",
    "fig, ax = plt.subplots(1,1, figsize=(20,5))\n",
    "ax.bar(country_sorted.index,np.log(country_sorted))\n",
    "ax.tick_params(labelrotation=45)\n",
    "ax.set_title(\"Sells per Country - LOG SCALE\")\n",
    "print(\"Customer's country - UK vs ALL: \"\n",
    "      +str(country_sorted[-1]/sum(country_sorted)))"
   ]
  },
  {
   "cell_type": "markdown",
   "metadata": {},
   "source": [
    "Most customers come from the UK (~90%). Maybe is it a good idea to make just two groups. The UK and the others.\n",
    "To better visualisation of minorities, I used logscale."
   ]
  },
  {
   "cell_type": "code",
   "execution_count": 54,
   "metadata": {},
   "outputs": [],
   "source": [
    "#Droping dead categories\n",
    "df[[\"StockCode\",\"Description\",\"Country\"]]=df[[\"StockCode\",\"Description\",\"Country\"]].astype(\"str\")\n",
    "df[[\"StockCode\",\"Description\",\"Country\"]]=df[[\"StockCode\",\"Description\",\"Country\"]].astype(\"category\")\n",
    "df.to_pickle(\"df_dirty\")"
   ]
  },
  {
   "cell_type": "code",
   "execution_count": 55,
   "metadata": {},
   "outputs": [],
   "source": [
    "#Saving data\n",
    "#df=pd.read_pickle(\"df_dirty\")"
   ]
  },
  {
   "cell_type": "markdown",
   "metadata": {},
   "source": [
    "### Feature engineering"
   ]
  },
  {
   "cell_type": "code",
   "execution_count": 56,
   "metadata": {},
   "outputs": [
    {
     "name": "stdout",
     "output_type": "stream",
     "text": [
      "First: 2010-12-01 08:26:00\n",
      "Last 2011-12-09 12:50:00\n",
      "Period: 373\n"
     ]
    }
   ],
   "source": [
    "#Defining time paramiters\n",
    "first_date =df[\"InvoiceDate\"].min()\n",
    "last_date=df[\"InvoiceDate\"].max()\n",
    "period = pd.Timedelta(last_date-first_date).days\n",
    "print(\"First: \"+str(first_date)\n",
    "      +\"\\nLast \"+str(last_date)\n",
    "      +\"\\nPeriod: \"+str(period))"
   ]
  },
  {
   "cell_type": "markdown",
   "metadata": {},
   "source": [
    "##### Adding a new Features."
   ]
  },
  {
   "cell_type": "code",
   "execution_count": 57,
   "metadata": {},
   "outputs": [
    {
     "data": {
      "text/html": [
       "<div>\n",
       "<style scoped>\n",
       "    .dataframe tbody tr th:only-of-type {\n",
       "        vertical-align: middle;\n",
       "    }\n",
       "\n",
       "    .dataframe tbody tr th {\n",
       "        vertical-align: top;\n",
       "    }\n",
       "\n",
       "    .dataframe thead th {\n",
       "        text-align: right;\n",
       "    }\n",
       "</style>\n",
       "<table border=\"1\" class=\"dataframe\">\n",
       "  <thead>\n",
       "    <tr style=\"text-align: right;\">\n",
       "      <th></th>\n",
       "      <th>Quantity</th>\n",
       "      <th>InvoiceDate</th>\n",
       "      <th>UnitPrice</th>\n",
       "      <th>Country</th>\n",
       "      <th>Price*Quantity</th>\n",
       "      <th>Freq_stock</th>\n",
       "      <th>Freq_customer</th>\n",
       "      <th>Year</th>\n",
       "      <th>Month</th>\n",
       "      <th>Day</th>\n",
       "      <th>Hour</th>\n",
       "      <th>Minute</th>\n",
       "      <th>Time</th>\n",
       "    </tr>\n",
       "  </thead>\n",
       "  <tbody>\n",
       "    <tr>\n",
       "      <td>0</td>\n",
       "      <td>6</td>\n",
       "      <td>2010-12-01 08:26:00</td>\n",
       "      <td>2.55</td>\n",
       "      <td>1</td>\n",
       "      <td>15.30</td>\n",
       "      <td>2253</td>\n",
       "      <td>297</td>\n",
       "      <td>2010</td>\n",
       "      <td>12</td>\n",
       "      <td>1</td>\n",
       "      <td>8</td>\n",
       "      <td>26</td>\n",
       "      <td>0.025</td>\n",
       "    </tr>\n",
       "    <tr>\n",
       "      <td>1</td>\n",
       "      <td>6</td>\n",
       "      <td>2010-12-01 08:26:00</td>\n",
       "      <td>3.39</td>\n",
       "      <td>1</td>\n",
       "      <td>20.34</td>\n",
       "      <td>340</td>\n",
       "      <td>297</td>\n",
       "      <td>2010</td>\n",
       "      <td>12</td>\n",
       "      <td>1</td>\n",
       "      <td>8</td>\n",
       "      <td>26</td>\n",
       "      <td>0.025</td>\n",
       "    </tr>\n",
       "    <tr>\n",
       "      <td>2</td>\n",
       "      <td>8</td>\n",
       "      <td>2010-12-01 08:26:00</td>\n",
       "      <td>2.75</td>\n",
       "      <td>1</td>\n",
       "      <td>22.00</td>\n",
       "      <td>286</td>\n",
       "      <td>297</td>\n",
       "      <td>2010</td>\n",
       "      <td>12</td>\n",
       "      <td>1</td>\n",
       "      <td>8</td>\n",
       "      <td>26</td>\n",
       "      <td>0.025</td>\n",
       "    </tr>\n",
       "    <tr>\n",
       "      <td>3</td>\n",
       "      <td>6</td>\n",
       "      <td>2010-12-01 08:26:00</td>\n",
       "      <td>3.39</td>\n",
       "      <td>1</td>\n",
       "      <td>20.34</td>\n",
       "      <td>466</td>\n",
       "      <td>297</td>\n",
       "      <td>2010</td>\n",
       "      <td>12</td>\n",
       "      <td>1</td>\n",
       "      <td>8</td>\n",
       "      <td>26</td>\n",
       "      <td>0.025</td>\n",
       "    </tr>\n",
       "    <tr>\n",
       "      <td>4</td>\n",
       "      <td>6</td>\n",
       "      <td>2010-12-01 08:26:00</td>\n",
       "      <td>3.39</td>\n",
       "      <td>1</td>\n",
       "      <td>20.34</td>\n",
       "      <td>438</td>\n",
       "      <td>297</td>\n",
       "      <td>2010</td>\n",
       "      <td>12</td>\n",
       "      <td>1</td>\n",
       "      <td>8</td>\n",
       "      <td>26</td>\n",
       "      <td>0.025</td>\n",
       "    </tr>\n",
       "  </tbody>\n",
       "</table>\n",
       "</div>"
      ],
      "text/plain": [
       "   Quantity         InvoiceDate  UnitPrice  Country  Price*Quantity  \\\n",
       "0         6 2010-12-01 08:26:00       2.55        1           15.30   \n",
       "1         6 2010-12-01 08:26:00       3.39        1           20.34   \n",
       "2         8 2010-12-01 08:26:00       2.75        1           22.00   \n",
       "3         6 2010-12-01 08:26:00       3.39        1           20.34   \n",
       "4         6 2010-12-01 08:26:00       3.39        1           20.34   \n",
       "\n",
       "   Freq_stock  Freq_customer  Year  Month  Day  Hour  Minute   Time  \n",
       "0        2253            297  2010     12    1     8      26  0.025  \n",
       "1         340            297  2010     12    1     8      26  0.025  \n",
       "2         286            297  2010     12    1     8      26  0.025  \n",
       "3         466            297  2010     12    1     8      26  0.025  \n",
       "4         438            297  2010     12    1     8      26  0.025  "
      ]
     },
     "execution_count": 57,
     "metadata": {},
     "output_type": "execute_result"
    }
   ],
   "source": [
    "#Revenue\n",
    "df[\"Price*Quantity\"]=df[\"UnitPrice\"]*df[\"Quantity\"]\n",
    "\n",
    "#Frequency of buying a given item\n",
    "df[\"Freq_stock\"] = df[\"StockCode\"].groupby(df[\"StockCode\"]).transform(\"count\")\n",
    "\n",
    "#Frequency of buying by a given customer\n",
    "df[\"Freq_customer\"]=df[\"CustomerID\"].groupby(df[\"CustomerID\"]).transform(\"count\")\n",
    "\n",
    "#Exploding InvoiceDate to 5 single ints\n",
    "df[\"Year\"] = df['InvoiceDate'].dt.year\n",
    "df[\"Month\"] = df['InvoiceDate'].dt.month\n",
    "df[\"Day\"] = df['InvoiceDate'].dt.day\n",
    "df[\"Hour\"] = df['InvoiceDate'].dt.hour\n",
    "df[\"Minute\"] = df['InvoiceDate'].dt.minute\n",
    "\n",
    "# Just two country categories\n",
    "df[\"Country\"]=df[\"Country\"].apply(lambda x:1 if x==\"United Kingdom\" else -1) # Two groups\n",
    "\n",
    "#CAUTION!!\n",
    "#It is convenient to have just one output variable. So, I decided that it will be a time\n",
    "#to next order representing by a float number. 1 is one day. For example 3.5 means,\n",
    "#that given item will be ordered on average by three and half of a day.\n",
    "df[\"Time\"]= df.groupby(\"StockCode\")[\"InvoiceDate\"].shift(periods=-1,fill_value=last_date)\n",
    "temp=(df[\"Time\"]-df[\"InvoiceDate\"])\n",
    "df[\"Time\"]=temp.dt.days+temp.dt.seconds/86400\n",
    "\n",
    "#Filling zeros by stock_frequency\n",
    "index=df[df[\"Time\"]==0.0].index\n",
    "df.loc[index,\"Time\"]=df.loc[index,\"Freq_stock\"]\n",
    "\n",
    "#Droping used columns\n",
    "df.drop(columns=[\"InvoiceNo\",\"StockCode\",\"CustomerID\",\"Description\"],inplace=True)\n",
    "df.to_pickle(\"df_cleaned\")\n",
    "df.head()"
   ]
  },
  {
   "cell_type": "markdown",
   "metadata": {},
   "source": [
    "##### Features engineering and important decisions\n",
    "\n",
    "It is convenient to have just one output variable. So, I decided that it will be a time for next orders representing by float number. 1 is one day. For example 3.5 means, that the given item will be ordered on average by three and half of a day.\n",
    "This Model is a proof of concept, so it is simple. In the next iteration, other important features can be added to get better performance.\n",
    "I will use it as a regressor random forest, so exploding a DataTime to 5 variables is probably a good idea."
   ]
  },
  {
   "cell_type": "markdown",
   "metadata": {},
   "source": [
    "# Target Variable Visual Analysis"
   ]
  },
  {
   "cell_type": "code",
   "execution_count": 58,
   "metadata": {},
   "outputs": [
    {
     "data": {
      "text/plain": [
       "count    522502.000000\n",
       "mean          9.909360\n",
       "std          83.081970\n",
       "min           0.000694\n",
       "25%           0.058333\n",
       "50%           0.759028\n",
       "75%           1.900000\n",
       "max        2253.000000\n",
       "Name: Time, dtype: float64"
      ]
     },
     "execution_count": 58,
     "metadata": {},
     "output_type": "execute_result"
    }
   ],
   "source": [
    "df[\"Time\"].describe()"
   ]
  },
  {
   "cell_type": "code",
   "execution_count": 59,
   "metadata": {},
   "outputs": [
    {
     "data": {
      "image/png": "[encoded data removed]",
      "text/plain": [
       "<Figure size 360x216 with 1 Axes>"
      ]
     },
     "metadata": {
      "needs_background": "light"
     },
     "output_type": "display_data"
    }
   ],
   "source": [
    "fig,ax= plt.subplots(1, 1,figsize=(5,3))\n",
    "ax.hist(np.log(df[\"Time\"]),density=True)\n",
    "ax.set_title(\"Target Variable -Time to next order of the same item\")\n",
    "ax.set_xlabel(\"log(days) - 0 means 1 day\")\n",
    "plt.show()"
   ]
  },
  {
   "cell_type": "markdown",
   "metadata": {},
   "source": [
    "Logscale was used to better visualisation. Negative values represent \"Time\" less than 1 (day), because of Log(1)=0\n",
    "As we can see a majority of items have time to nex order smaller than one day. "
   ]
  },
  {
   "cell_type": "code",
   "execution_count": 60,
   "metadata": {},
   "outputs": [
    {
     "name": "stdout",
     "output_type": "stream",
     "text": [
      "99% of all samples are less than 256.0\n",
      "1% of outliers: \n",
      "107       373.13125\n",
      "304       399.00000\n",
      "556       333.00000\n",
      "557       327.00000\n",
      "559       430.00000\n",
      "            ...    \n",
      "541902    905.00000\n",
      "541903    372.00000\n",
      "541905    315.00000\n",
      "541906    301.00000\n",
      "541908    938.00000\n",
      "Name: Time, Length: 5239, dtype: float64\n"
     ]
    }
   ],
   "source": [
    "quantile=df[\"Time\"].quantile(0.99)\n",
    "print(\"99% of all samples are less than \"+str(quantile))\n",
    "index=df[df[\"Time\"]>=quantile].index\n",
    "print(\"1% of outliers: \\n\"+str(df.loc[index,\"Time\"]))"
   ]
  },
  {
   "cell_type": "code",
   "execution_count": 61,
   "metadata": {},
   "outputs": [],
   "source": [
    "df.drop(index,inplace=True) # dropping outliers"
   ]
  },
  {
   "cell_type": "code",
   "execution_count": 62,
   "metadata": {},
   "outputs": [
    {
     "name": "stdout",
     "output_type": "stream",
     "text": [
      "After dropping 99% of samples are less then 43.16490277777784\n"
     ]
    }
   ],
   "source": [
    "quantile=df[\"Time\"].quantile(0.99)\n",
    "print(\"After dropping 99% of samples are less then \"+str(quantile))"
   ]
  },
  {
   "cell_type": "code",
   "execution_count": 63,
   "metadata": {},
   "outputs": [
    {
     "data": {
      "text/plain": [
       "count    517263.000000\n",
       "mean          2.916643\n",
       "std          13.872146\n",
       "min           0.000694\n",
       "25%           0.057639\n",
       "50%           0.748611\n",
       "75%           1.870833\n",
       "max         255.998611\n",
       "Name: Time, dtype: float64"
      ]
     },
     "execution_count": 63,
     "metadata": {},
     "output_type": "execute_result"
    }
   ],
   "source": [
    "df[\"Time\"].describe()"
   ]
  },
  {
   "cell_type": "code",
   "execution_count": 64,
   "metadata": {},
   "outputs": [
    {
     "data": {
      "image/png": "[encoded data removed]",
      "text/plain": [
       "<Figure size 576x360 with 1 Axes>"
      ]
     },
     "metadata": {
      "needs_background": "light"
     },
     "output_type": "display_data"
    }
   ],
   "source": [
    "_,ax = plt.subplots(1,1,figsize=(8,5))\n",
    "ax.plot(df[\"InvoiceDate\"][::20],df[\"Time\"][::20])\n",
    "ax.set_xlabel(\"Invoice Date\")\n",
    "ax.set_ylabel(\"time to next order [days]\")\n",
    "ax.set_title=(\"Target Variable 5% of all observations\")\n",
    "plt.show()"
   ]
  },
  {
   "cell_type": "markdown",
   "metadata": {},
   "source": [
    "##### Conclusion\n",
    "Visualisation of Target[InvoiceDate]. Function looks fine. There is a gap just before 01.2011.\n",
    "<br>\n",
    "Shop sells more at the end of the year and this is what we see in visualisation. Moreover, there is visible kind of artificial linear pattern witch is form by \"Time\" peaks. In my opinion, it comes from a difference in sells from April till November. If we have a low season, in general, we have to wait for more for next orders."
   ]
  },
  {
   "cell_type": "markdown",
   "metadata": {},
   "source": [
    "# Modeling"
   ]
  },
  {
   "cell_type": "markdown",
   "metadata": {},
   "source": [
    "##### Splitting DataSet"
   ]
  },
  {
   "cell_type": "code",
   "execution_count": 65,
   "metadata": {},
   "outputs": [],
   "source": [
    "#df.to_pickle(\"df_cleaned\")\n",
    "df=pd.read_pickle(\"df_cleaned\")"
   ]
  },
  {
   "cell_type": "code",
   "execution_count": 66,
   "metadata": {},
   "outputs": [],
   "source": [
    "#Assign Y and X. Dropping unused further columns \n",
    "Y=np.array(df[\"Time\"])\n",
    "df.drop(columns=[\"Time\",\"InvoiceDate\"],inplace=True)\n",
    "X=np.array(df)"
   ]
  },
  {
   "cell_type": "code",
   "execution_count": 67,
   "metadata": {},
   "outputs": [
    {
     "name": "stdout",
     "output_type": "stream",
     "text": [
      "Number of rows: 522502\n"
     ]
    }
   ],
   "source": [
    "#Dividing df to X and target variable Y\n",
    "train_to_all=0.9 #Splitting_parameter\n",
    "\n",
    "n=len(df)\n",
    "ntrain=int(train_to_all*n)\n",
    "print(\"Number of rows: \"+str(len(df)))\n",
    "\n",
    "Y_train=np.array(Y[:ntrain])#90% first - train\n",
    "Y_val=np.array(Y[ntrain:]) #10% last -final validation\n",
    "\n",
    "X_train=np.array(X[:ntrain]) #90% first - train\n",
    "X_val=np.array(X[ntrain:])  #10% last -final validation\n",
    "\n",
    "#Scaling\n",
    "Scaler = RobustScaler()\n",
    "X_train = Scaler.fit_transform(X_train)\n",
    "X_val = Scaler.transform(X_val)"
   ]
  },
  {
   "cell_type": "code",
   "execution_count": 68,
   "metadata": {},
   "outputs": [
    {
     "data": {
      "image/png": "[encoded data removed]",
      "text/plain": [
       "<Figure size 720x504 with 1 Axes>"
      ]
     },
     "metadata": {
      "needs_background": "light"
     },
     "output_type": "display_data"
    }
   ],
   "source": [
    "nsample=10\n",
    "fig, ax = plt.subplots(figsize=(10,7))\n",
    "vt=[None for t in Y_train] + [v for v in Y_val]\n",
    "draw_plot(Y_train[::nsample],ax,\"\",\"\")\n",
    "draw_plot(vt[::nsample],ax,\"sample\",\"Target Variable\")                      \n",
    "plt.show()"
   ]
  },
  {
   "cell_type": "markdown",
   "metadata": {},
   "source": [
    "### Random forests\n",
    "##### RandomSearch preparation"
   ]
  },
  {
   "cell_type": "code",
   "execution_count": 69,
   "metadata": {},
   "outputs": [],
   "source": [
    "from sklearn.metrics import make_scorer"
   ]
  },
  {
   "cell_type": "code",
   "execution_count": 105,
   "metadata": {},
   "outputs": [
    {
     "name": "stdout",
     "output_type": "stream",
     "text": [
      "{'n_estimators': [200, 1100, 2000], 'max_features': ['sqrt'], 'max_depth': [28, 45, 62, None], 'min_samples_split': [2, 4, 8], 'min_samples_leaf': [1, 2, 4], 'bootstrap': [True]}\n"
     ]
    }
   ],
   "source": [
    "# Number of trees in random forest\n",
    "n_estimators = [int(x) for x in np.linspace(start = 200, stop = 2000, num = 3)]\n",
    "# Number of features to consider at every split\n",
    "max_features =  [\"sqrt\"]\n",
    "# Maximum number of levels in tree\n",
    "max_depth = [int(x) for x in np.linspace(28, 62, num = 3)]\n",
    "max_depth.append(None)\n",
    "# Minimum number of samples required to split a node\n",
    "min_samples_split = [2,4,8]\n",
    "# Minimum number of samples required at each leaf node\n",
    "min_samples_leaf = [1, 2,4]\n",
    "# Method of selecting samples for training each tree\n",
    "bootstrap = [True]\n",
    "# Create the random grid\n",
    "random_grid = {'n_estimators': n_estimators,\n",
    "               'max_features': max_features,\n",
    "               'max_depth': max_depth,\n",
    "               'min_samples_split': min_samples_split,\n",
    "               'min_samples_leaf': min_samples_leaf,\n",
    "               'bootstrap': bootstrap}\n",
    "print(random_grid)"
   ]
  },
  {
   "cell_type": "code",
   "execution_count": 108,
   "metadata": {},
   "outputs": [
    {
     "name": "stdout",
     "output_type": "stream",
     "text": [
      "Fitting 2 folds for each of 3 candidates, totalling 6 fits\n"
     ]
    },
    {
     "name": "stderr",
     "output_type": "stream",
     "text": [
      "[Parallel(n_jobs=-1)]: Using backend LokyBackend with 12 concurrent workers.\n",
      "[Parallel(n_jobs=-1)]: Done   1 tasks      | elapsed:  5.2min\n",
      "[Parallel(n_jobs=-1)]: Done   2 out of   6 | elapsed:  5.5min remaining: 10.9min\n",
      "[Parallel(n_jobs=-1)]: Done   3 out of   6 | elapsed:  8.0min remaining:  8.0min\n",
      "[Parallel(n_jobs=-1)]: Done   4 out of   6 | elapsed: 10.4min remaining:  5.2min\n",
      "[Parallel(n_jobs=-1)]: Done   6 out of   6 | elapsed: 16.0min remaining:    0.0s\n",
      "[Parallel(n_jobs=-1)]: Done   6 out of   6 | elapsed: 16.0min finished\n"
     ]
    },
    {
     "data": {
      "text/plain": [
       "RandomizedSearchCV(cv=<generator object TimeSeriesSplit.split at 0x0000026E2A5087C8>,\n",
       "                   error_score='raise-deprecating',\n",
       "                   estimator=RandomForestRegressor(bootstrap=True,\n",
       "                                                   criterion='mse',\n",
       "                                                   max_depth=None,\n",
       "                                                   max_features='auto',\n",
       "                                                   max_leaf_nodes=None,\n",
       "                                                   min_impurity_decrease=0.0,\n",
       "                                                   min_impurity_split=None,\n",
       "                                                   min_samples_leaf=1,\n",
       "                                                   min_samples_split=2,\n",
       "                                                   min_weight_fraction_leaf=0.0,\n",
       "                                                   n...\n",
       "                   iid='warn', n_iter=3, n_jobs=-1,\n",
       "                   param_distributions={'bootstrap': [True],\n",
       "                                        'max_depth': [28, 45, 62, None],\n",
       "                                        'max_features': ['sqrt'],\n",
       "                                        'min_samples_leaf': [1, 2, 4],\n",
       "                                        'min_samples_split': [2, 4, 8],\n",
       "                                        'n_estimators': [200, 1100, 2000]},\n",
       "                   pre_dispatch='2*n_jobs', random_state=42, refit=True,\n",
       "                   return_train_score=True,\n",
       "                   scoring=make_scorer(mean_absolute_error, greater_is_better=False),\n",
       "                   verbose=40)"
      ]
     },
     "execution_count": 108,
     "metadata": {},
     "output_type": "execute_result"
    }
   ],
   "source": [
    "#Initialization of estimator\n",
    "MAE = make_scorer(mean_absolute_error,greater_is_better=False) #Loss\n",
    "RF = RandomForestRegressor() #Initialization\n",
    "\n",
    "#cross-validation is not good for time series. TimeSeriesSplit is better\n",
    "my_cv = TimeSeriesSplit(n_splits=2).split(X_train)\n",
    "RF_random=RandomizedSearchCV(RF, random_grid, n_iter=3,n_jobs=-1, cv=my_cv,scoring=MAE,\n",
    "                             random_state=42,verbose=40,return_train_score=True)\n",
    "RF_random.fit(X_train, Y_train)"
   ]
  },
  {
   "cell_type": "code",
   "execution_count": 70,
   "metadata": {},
   "outputs": [],
   "source": [
    "def Summary(model,nsample,X_train,Y_train,X_val,Y_val):\n",
    "    nsample=nsample #plot density\n",
    "    \n",
    "    Pr_train = model.predict(X_train) #Making prediction on train_set\n",
    "    Pr_val= model.predict(X_val)      #Making prediction on validation_set\n",
    "\n",
    "    Er_train = round(mean_absolute_error(Y_train,Pr_train),3) #Error on train set\n",
    "    Er_val = round(mean_absolute_error(Y_val,Pr_val),3)       #Error on validation set\n",
    "\n",
    "    xlabel='MSE: Train_set = '+str(Er_train)+' Val_Set = '+str(Er_val)\n",
    "    vt=[None for t in Y_train] + [v for v in Y_val]\n",
    "    vp=[None for t in Pr_train] + [v for v in Pr_val]\n",
    "\n",
    "    fig, (ax1,ax2) = plt.subplots(1,2,figsize=(17,7))\n",
    "    draw_plot(Y_train[::nsample],ax1,xlabel,\"\")\n",
    "    draw_plot(vt[::nsample],ax1,\"\",\"ORGINAL - Train_set and Validation_set\")\n",
    "    draw_plot(Pr_train[::nsample],ax2,xlabel,\"\")\n",
    "    draw_plot(vp[::nsample],ax2,xlabel,\"PREDICTION - Train_set and Validation_set\")\n",
    "    plt.show()\n",
    "\n",
    "    print('MSE on the Training_Set: '+str(Er_train))\n",
    "    print('MSE on the Validation_Set: '+str(Er_val))\n",
    "    print(\"\\nHyperParameters of best regresor:\\n\",model)\n",
    "    \n",
    "    return None"
   ]
  },
  {
   "cell_type": "markdown",
   "metadata": {},
   "source": [
    "### Models comparing\n",
    "##### Best RandomForest from RandomizedSearchCV"
   ]
  },
  {
   "cell_type": "code",
   "execution_count": 145,
   "metadata": {},
   "outputs": [
    {
     "data": {
      "image/png": "[encoded data removed]",
      "text/plain": [
       "<Figure size 1224x504 with 2 Axes>"
      ]
     },
     "metadata": {
      "needs_background": "light"
     },
     "output_type": "display_data"
    },
    {
     "name": "stdout",
     "output_type": "stream",
     "text": [
      "Mean Absolute Error on the Training_Set: 2.472\n",
      "Mean Absolute Error on the Validation_Set: 3.247\n",
      "HyperParameters of best regresor:\n",
      "\n",
      " RandomForestRegressor(bootstrap=True, criterion='mse', max_depth=62,\n",
      "                      max_features='sqrt', max_leaf_nodes=None,\n",
      "                      min_impurity_decrease=0.0, min_impurity_split=None,\n",
      "                      min_samples_leaf=4, min_samples_split=4,\n",
      "                      min_weight_fraction_leaf=0.0, n_estimators=2000,\n",
      "                      n_jobs=None, oob_score=False, random_state=None,\n",
      "                      verbose=0, warm_start=False)\n"
     ]
    }
   ],
   "source": [
    "best_grid = RF_random.best_estimator_\n",
    "Summary(best_grid,10)"
   ]
  },
  {
   "cell_type": "markdown",
   "metadata": {},
   "source": [
    "##### RandomForest Fine-Tuning"
   ]
  },
  {
   "cell_type": "code",
   "execution_count": 57,
   "metadata": {},
   "outputs": [
    {
     "name": "stderr",
     "output_type": "stream",
     "text": [
      "[Parallel(n_jobs=-1)]: Using backend ThreadingBackend with 12 concurrent workers.\n",
      "[Parallel(n_jobs=-1)]: Done  26 tasks      | elapsed:    2.3s\n",
      "[Parallel(n_jobs=-1)]: Done 176 tasks      | elapsed:   12.2s\n",
      "[Parallel(n_jobs=-1)]: Done 200 out of 200 | elapsed:   13.6s finished\n",
      "[Parallel(n_jobs=12)]: Using backend ThreadingBackend with 12 concurrent workers.\n",
      "[Parallel(n_jobs=12)]: Done  26 tasks      | elapsed:    0.1s\n",
      "[Parallel(n_jobs=12)]: Done 176 tasks      | elapsed:    1.0s\n",
      "[Parallel(n_jobs=12)]: Done 200 out of 200 | elapsed:    1.2s finished\n",
      "[Parallel(n_jobs=12)]: Using backend ThreadingBackend with 12 concurrent workers.\n",
      "[Parallel(n_jobs=12)]: Done  26 tasks      | elapsed:    0.0s\n",
      "[Parallel(n_jobs=12)]: Done 176 tasks      | elapsed:    0.0s\n",
      "[Parallel(n_jobs=12)]: Done 200 out of 200 | elapsed:    0.0s finished\n"
     ]
    },
    {
     "data": {
      "image/png": "[encoded data removed]",
      "text/plain": [
       "<Figure size 1224x504 with 2 Axes>"
      ]
     },
     "metadata": {
      "needs_background": "light"
     },
     "output_type": "display_data"
    },
    {
     "name": "stdout",
     "output_type": "stream",
     "text": [
      "MSE on the Training_Set: 3.033\n",
      "MSE on the Validation_Set: 3.16\n",
      "\n",
      "HyperParameters of best regresor:\n",
      " RandomForestRegressor(bootstrap=True, criterion='mse', max_depth=15,\n",
      "                      max_features='log2', max_leaf_nodes=None,\n",
      "                      min_impurity_decrease=0.0, min_impurity_split=None,\n",
      "                      min_samples_leaf=10, min_samples_split=10,\n",
      "                      min_weight_fraction_leaf=0.0, n_estimators=200, n_jobs=-1,\n",
      "                      oob_score=False, random_state=42, verbose=1,\n",
      "                      warm_start=False)\n"
     ]
    }
   ],
   "source": [
    "#BAGGING\n",
    "RF_bagging = RandomForestRegressor(bootstrap=True, criterion='mse', max_depth=15,\n",
    "                                      max_features='log2', max_leaf_nodes=None,\n",
    "                                      min_impurity_decrease=0.0, min_impurity_split=None,\n",
    "                                      min_samples_leaf=10, min_samples_split=10,\n",
    "                                      min_weight_fraction_leaf=0.0, n_estimators=200,\n",
    "                                      n_jobs=-1, random_state=42,verbose=1)\n",
    "\n",
    "RF_bagging.fit(X_train, Y_train)\n",
    "Summary(RF_bagging,10,X_train,Y_train,X_val,Y_val)"
   ]
  },
  {
   "cell_type": "code",
   "execution_count": 47,
   "metadata": {},
   "outputs": [
    {
     "name": "stderr",
     "output_type": "stream",
     "text": [
      "[Parallel(n_jobs=-1)]: Using backend ThreadingBackend with 12 concurrent workers.\n",
      "[Parallel(n_jobs=-1)]: Done  26 tasks      | elapsed:   10.8s\n",
      "[Parallel(n_jobs=-1)]: Done 100 out of 100 | elapsed:   31.6s finished\n",
      "[Parallel(n_jobs=12)]: Using backend ThreadingBackend with 12 concurrent workers.\n",
      "[Parallel(n_jobs=12)]: Done  26 tasks      | elapsed:    0.2s\n",
      "[Parallel(n_jobs=12)]: Done 100 out of 100 | elapsed:    0.8s finished\n",
      "[Parallel(n_jobs=12)]: Using backend ThreadingBackend with 12 concurrent workers.\n",
      "[Parallel(n_jobs=12)]: Done  26 tasks      | elapsed:    0.0s\n",
      "[Parallel(n_jobs=12)]: Done 100 out of 100 | elapsed:    0.0s finished\n"
     ]
    },
    {
     "data": {
      "image/png": "[encoded data removed]",
      "text/plain": [
       "<Figure size 1224x504 with 2 Axes>"
      ]
     },
     "metadata": {
      "needs_background": "light"
     },
     "output_type": "display_data"
    },
    {
     "name": "stdout",
     "output_type": "stream",
     "text": [
      "MSE on the Training_Set: 3.006\n",
      "MSE on the Validation_Set: 3.093\n",
      "\n",
      "HyperParameters of best regresor:\n",
      " RandomForestRegressor(bootstrap=False, criterion='mse', max_depth=None,\n",
      "                      max_features=None, max_leaf_nodes=None,\n",
      "                      min_impurity_decrease=0.0, min_impurity_split=None,\n",
      "                      min_samples_leaf=22, min_samples_split=38,\n",
      "                      min_weight_fraction_leaf=0.0, n_estimators=100, n_jobs=-1,\n",
      "                      oob_score=False, random_state=42, verbose=1,\n",
      "                      warm_start=False)\n"
     ]
    }
   ],
   "source": [
    "#BOOSTING\n",
    "RF_boosting = RandomForestRegressor(bootstrap=False, criterion='mse', max_depth=None,\n",
    "                                      max_features=None, max_leaf_nodes=None,\n",
    "                                      min_impurity_decrease=0.0, min_impurity_split=None,\n",
    "                                      min_samples_leaf=22, min_samples_split=38,\n",
    "                                      min_weight_fraction_leaf=0.0, n_estimators=100,\n",
    "                                      n_jobs=-1, random_state=42,verbose=1)\n",
    "\n",
    "RF_boosting.fit(X_train, Y_train)\n",
    "Summary(RF_boosting,10,X_train,Y_train,X_val,Y_val)"
   ]
  },
  {
   "cell_type": "markdown",
   "metadata": {},
   "source": [
    "##### Feature_importances"
   ]
  },
  {
   "cell_type": "code",
   "execution_count": 89,
   "metadata": {},
   "outputs": [
    {
     "data": {
      "text/html": [
       "<div>\n",
       "<style scoped>\n",
       "    .dataframe tbody tr th:only-of-type {\n",
       "        vertical-align: middle;\n",
       "    }\n",
       "\n",
       "    .dataframe tbody tr th {\n",
       "        vertical-align: top;\n",
       "    }\n",
       "\n",
       "    .dataframe thead th {\n",
       "        text-align: right;\n",
       "    }\n",
       "</style>\n",
       "<table border=\"1\" class=\"dataframe\">\n",
       "  <thead>\n",
       "    <tr style=\"text-align: right;\">\n",
       "      <th></th>\n",
       "      <th>Bagging</th>\n",
       "      <th>Boosting</th>\n",
       "    </tr>\n",
       "  </thead>\n",
       "  <tbody>\n",
       "    <tr>\n",
       "      <td>Quantity</td>\n",
       "      <td>0.028565</td>\n",
       "      <td>0.014656</td>\n",
       "    </tr>\n",
       "    <tr>\n",
       "      <td>UnitPrice</td>\n",
       "      <td>0.046583</td>\n",
       "      <td>0.034734</td>\n",
       "    </tr>\n",
       "    <tr>\n",
       "      <td>Country</td>\n",
       "      <td>0.001896</td>\n",
       "      <td>0.001327</td>\n",
       "    </tr>\n",
       "    <tr>\n",
       "      <td>Price*Quantity</td>\n",
       "      <td>0.063586</td>\n",
       "      <td>0.056985</td>\n",
       "    </tr>\n",
       "    <tr>\n",
       "      <td>Freq_stock</td>\n",
       "      <td>0.582430</td>\n",
       "      <td>0.575052</td>\n",
       "    </tr>\n",
       "    <tr>\n",
       "      <td>Freq_customer</td>\n",
       "      <td>0.066668</td>\n",
       "      <td>0.073109</td>\n",
       "    </tr>\n",
       "    <tr>\n",
       "      <td>Year</td>\n",
       "      <td>0.005631</td>\n",
       "      <td>0.003014</td>\n",
       "    </tr>\n",
       "    <tr>\n",
       "      <td>Month</td>\n",
       "      <td>0.062274</td>\n",
       "      <td>0.094677</td>\n",
       "    </tr>\n",
       "    <tr>\n",
       "      <td>Day</td>\n",
       "      <td>0.056078</td>\n",
       "      <td>0.059523</td>\n",
       "    </tr>\n",
       "    <tr>\n",
       "      <td>Hour</td>\n",
       "      <td>0.030912</td>\n",
       "      <td>0.033364</td>\n",
       "    </tr>\n",
       "    <tr>\n",
       "      <td>Minute</td>\n",
       "      <td>0.055377</td>\n",
       "      <td>0.053559</td>\n",
       "    </tr>\n",
       "  </tbody>\n",
       "</table>\n",
       "</div>"
      ],
      "text/plain": [
       "                 Bagging  Boosting\n",
       "Quantity        0.028565  0.014656\n",
       "UnitPrice       0.046583  0.034734\n",
       "Country         0.001896  0.001327\n",
       "Price*Quantity  0.063586  0.056985\n",
       "Freq_stock      0.582430  0.575052\n",
       "Freq_customer   0.066668  0.073109\n",
       "Year            0.005631  0.003014\n",
       "Month           0.062274  0.094677\n",
       "Day             0.056078  0.059523\n",
       "Hour            0.030912  0.033364\n",
       "Minute          0.055377  0.053559"
      ]
     },
     "execution_count": 89,
     "metadata": {},
     "output_type": "execute_result"
    }
   ],
   "source": [
    "RF=pd.DataFrame(index=df.columns,data=RF_bagging.feature_importances_,columns=[\"Bagging\"])\n",
    "RF[\"Boosting\"]=RF_boosting.feature_importances_.T\n",
    "RF"
   ]
  },
  {
   "cell_type": "markdown",
   "metadata": {},
   "source": [
    "##### Summary\n",
    "I decided to use random forests. It is a convenient tool for building quick models, used as proof of concept. At first, I have found a suboptimal solution using RandomizedSearchCV. This model achieves a good performance of MSE=2.472 on a training set and MSE=3.247 on a validation set. To reduce overfitting I tried two approaches.\n",
    "<br>\n",
    "First was bagging where the relatively bad model was trained many times on a subset of the training set. This regressor achieves MSE=3.03 on the training set and 3.16 on a test set. It performs better than the previous one but still, there is some overfitting.\n",
    "<br>\n",
    "Last was a simple boosting model - no bootstrap, no max_features, no max_depth. To control overfitting I used min_samples_leaf and min_samples_split. It was easy to computing since it has good performance with just 10 estimators at the beginning. \n",
    "Performance: train set MSE=3.006, Validation set 3.093 witches is the best result. \n",
    "<br>\n",
    "Of course, this is not good results in objective terms and there is plenty of space to improve. For example, better feature engineering should give better results, since both models used Freq_stock as the main predictor.\n"
   ]
  },
  {
   "cell_type": "code",
   "execution_count": null,
   "metadata": {},
   "outputs": [],
   "source": []
  }
 ],
 "metadata": {
  "kernelspec": {
   "display_name": "Python 3",
   "language": "python",
   "name": "python3"
  },
  "language_info": {
   "codemirror_mode": {
    "name": "ipython",
    "version": 3
   },
   "file_extension": ".py",
   "mimetype": "text/x-python",
   "name": "python",
   "nbconvert_exporter": "python",
   "pygments_lexer": "ipython3",
   "version": "3.7.6"
  }
 },
 "nbformat": 4,
 "nbformat_minor": 2
}
